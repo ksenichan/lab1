{
 "cells": [
  {
   "cell_type": "markdown",
   "metadata": {
    "id": "M-DGa20PaHnu"
   },
   "source": [
    "#Задача 1\n",
    "Написать функцию на вход которой подается строка, состоящая из латинских букв.\n",
    "Функция должна вернуть количество гласных букв (a, e, i, o, u) в этой строке. Написать тесты для кода"
   ]
  },
  {
   "cell_type": "code",
   "execution_count": 1,
   "metadata": {
    "id": "XvX8X_JJ6PCb"
   },
   "outputs": [
    {
     "name": "stdout",
     "output_type": "stream",
     "text": [
      "Введённая строка: data science\n",
      "Тест успешно пройден!\n",
      "Введённая строка: \n",
      "Тест успешно пройден!\n",
      "Введённая строка: hello\n",
      "Тест успешно пройден!\n",
      "Введённая строка: abcde\n",
      "Тест успешно пройден!\n",
      "Введённая строка: ffffff\n",
      "Тест успешно пройден!\n"
     ]
    }
   ],
   "source": [
    "def number_of_vowels(str):\n",
    "    result = 0\n",
    "    vowels = ('a', 'e', 'i', 'o', 'u')\n",
    "    for i in str:\n",
    "        for let in vowels:\n",
    "            if i == let:\n",
    "                result += 1\n",
    "    return result \n",
    "    \n",
    "def test(string, count):\n",
    "    answer = number_of_vowels(string)\n",
    "    print(\"Введённая строка:\",string);\n",
    "    if answer == count:\n",
    "        print (\"Тест успешно пройден!\")\n",
    "    else:\n",
    "        print(\"Тест не пройден\")\n",
    "        \n",
    "test(\"data science\", 5)\n",
    "test(\"\", 0)\n",
    "test (\"hello\", 2)\n",
    "test (\"abcde\", 2)\n",
    "test (\"ffffff\",0)"
   ]
  },
  {
   "cell_type": "markdown",
   "metadata": {
    "id": "t2ClV_Y0bbr6"
   },
   "source": [
    "# Задача 2\n",
    "Написать функцию на вход, которой подается строка. Функция должна вернуть true, если\n",
    "каждый символ в строке встречается только 1 раз, иначе должна вернуть false. Написать тесты для кода"
   ]
  },
  {
   "cell_type": "code",
   "execution_count": 2,
   "metadata": {
    "id": "FppbECao6VIz"
   },
   "outputs": [
    {
     "name": "stdout",
     "output_type": "stream",
     "text": [
      "Введённая строка: abcde\n",
      "Тест успешно пройден!\n",
      "Введённая строка: \n",
      "Тест успешно пройден!\n",
      "Введённая строка: aaa\n",
      "Тест успешно пройден!\n",
      "Введённая строка: aA\n",
      "Тест успешно пройден!\n"
     ]
    }
   ],
   "source": [
    "def one_symbol(str):\n",
    "    return len(set(str)) == len(str)\n",
    "\n",
    "def test(string, ans):\n",
    "    print (\"Введённая строка:\", string)\n",
    "    if ans == one_symbol(string):\n",
    "        print(\"Тест успешно пройден!\")\n",
    "    else:\n",
    "        print(\"Тест не пройден\")\n",
    "\n",
    "test(\"abcde\", True)\n",
    "test(\"\", True)\n",
    "test(\"aaa\", False)\n",
    "test(\"aA\", True)"
   ]
  },
  {
   "cell_type": "markdown",
   "metadata": {
    "id": "udRiIK1cdt6E"
   },
   "source": [
    "# Задача 3\n",
    "Написать функцию, которая принимает положительное число и возвращает количество\n",
    "бит равных 1 в этом числе. Написать тесты для кода"
   ]
  },
  {
   "cell_type": "code",
   "execution_count": 3,
   "metadata": {
    "id": "6tkfDJRz6dp_"
   },
   "outputs": [
    {
     "name": "stdout",
     "output_type": "stream",
     "text": [
      "Введённое число: 8\n",
      "Тест успешно пройден!\n",
      "Введённое число: 0\n",
      "Тест успешно пройден!\n",
      "Введённое число: 1\n",
      "Тест успешно пройден!\n",
      "Введённое число: 7\n",
      "Тест успешно пройден!\n",
      "Введённое число: 123456789\n",
      "Тест успешно пройден!\n"
     ]
    }
   ],
   "source": [
    "def count_bit(n):\n",
    "    return bin(n).count('1')\n",
    "    \n",
    "def test(num, answer):\n",
    "    print(\"Введённое число:\", num)\n",
    "    if answer == count_bit(num):\n",
    "        print(\"Тест успешно пройден!\")\n",
    "    else:\n",
    "        print(\"Тест не пройден\")\n",
    "test(8,1)\n",
    "test(0,0)\n",
    "test(1,1)\n",
    "test(7, 3)\n",
    "test(123456789, 16)"
   ]
  },
  {
   "cell_type": "markdown",
   "metadata": {
    "id": "26dDUz-Ae17N"
   },
   "source": [
    "# Задача 4\n",
    "Написать функцию, которая принимает положительное число. Функция должна вернуть то,\n",
    "сколько раз необходимо перемножать цифры числа или результат перемножения, чтобы\n",
    "получилось число состоящее из одной цифры.\n",
    "Например, для входного числа:\n",
    "· 39 функция должна вернуть 3, так как 3*9=27 => 2*7=14 => 1*4=4\n",
    "· 4 функция должна вернуть 0, так как число уже состоит из одной цифры\n",
    "· 999 функция должна вернуть 4, так как 9*9*9=729 => 7*2*9=126 => 1*2*6=12 =>\n",
    "1*2=2. Написать тесты для кода"
   ]
  },
  {
   "cell_type": "code",
   "execution_count": 4,
   "metadata": {
    "id": "BH1A_Mgi6i4G"
   },
   "outputs": [
    {
     "name": "stdout",
     "output_type": "stream",
     "text": [
      "Введённое число: 39\n",
      "Тест успешно пройден!\n",
      "Введённое число: 4\n",
      "Тест успешно пройден!\n",
      "Введённое число: 999\n",
      "Тест успешно пройден!\n",
      "Введённое число: 1000\n",
      "Тест успешно пройден!\n"
     ]
    }
   ],
   "source": [
    "def magic(n):\n",
    "    if n < 10:\n",
    "        return 0\n",
    "    else:\n",
    "        count = 0\n",
    "        while n >= 10:\n",
    "            res = 1\n",
    "            for i in str(n):\n",
    "                res *= int(i)\n",
    "            n = res\n",
    "            count += 1\n",
    "        return count\n",
    "\n",
    "def test(num, answer):\n",
    "    print (\"Введённое число:\", num)\n",
    "    if magic(num) == answer:\n",
    "        print(\"Тест успешно пройден!\")\n",
    "    else:\n",
    "        print(\"Тест не пройден\")\n",
    "\n",
    "test(39, 3)\n",
    "test(4,0)\n",
    "test(999, 4)\n",
    "test(1000, 1)"
   ]
  },
  {
   "cell_type": "markdown",
   "metadata": {
    "id": "0nS-kIa8g8vd"
   },
   "source": [
    "# Задача 5\n",
    "Написать функцию, которая принимает два целочисленных вектора одинаковой длины и\n",
    "возвращает среднеквадратическое отклонение двух векторов. Написать тесты для кода"
   ]
  },
  {
   "cell_type": "code",
   "execution_count": 1,
   "metadata": {
    "id": "8iphx4LM6xbx"
   },
   "outputs": [
    {
     "name": "stdout",
     "output_type": "stream",
     "text": [
      "Введённые векторы: [1, 2, 3, 4] [5, 6, 7, 8]\n",
      "Тест успешно пройден!\n",
      "Введённые векторы: [0, 0, 0] [0, 0, 0]\n",
      "Тест успешно пройден!\n",
      "Введённые векторы: [1, 2] [3, 4, 5]\n",
      "Введите векторы одинаковой длины!\n"
     ]
    }
   ],
   "source": [
    "def mse(pred, true):\n",
    "    n = len (pred)\n",
    "    sqr = 0\n",
    "    m = 0\n",
    "    if len(pred) != len(true):\n",
    "        return (\"Введите векторы одинаковой длины!\")\n",
    "    for i in range(n):\n",
    "        sqr += (pred[i] - true[i])**2\n",
    "    m = sqr/n\n",
    "    std = m**0.5\n",
    "    return std\n",
    "\n",
    "def test(p, t, answer):\n",
    "    print (f\"Введённые векторы:\", p, t)\n",
    "    if len(p) != len(t):\n",
    "        print(\"Введите векторы одинаковой длины!\")\n",
    "    else:\n",
    "        if mse(p,t) == answer:\n",
    "            print(\"Тест успешно пройден!\")\n",
    "        else:\n",
    "            print(\"Тест не пройден\")\n",
    "\n",
    "test([1,2,3,4], [5,6,7,8], 4.0)\n",
    "test([0,0,0], [0,0,0], 0)\n",
    "test([1,2],[3,4,5],0)"
   ]
  },
  {
   "cell_type": "markdown",
   "metadata": {
    "id": "vpIPKL439zkw"
   },
   "source": [
    "# Задача 6\n",
    "Написать функцию, принимающая целое положительное число. Функция должна вернуть\n",
    "строку вида “(n1**p1)(n2**p2)…(nk**pk)” представляющая разложение числа на простые\n",
    "множители (если pi == 1, то выводить только ni).\n",
    "Например, для числа 86240 функция должна вернуть “(2**5)(5)(7**2)(11)”. Написать тесты для кода"
   ]
  },
  {
   "cell_type": "code",
   "execution_count": 30,
   "metadata": {
    "id": "pFebmcZk94Jw"
   },
   "outputs": [
    {
     "name": "stdout",
     "output_type": "stream",
     "text": [
      "Введённое число: 86240\n",
      "Тест успешно пройден!\n",
      "Введённое число: 8\n",
      "Тест успешно пройден!\n",
      "Введённое число: 10\n",
      "Тест успешно пройден!\n",
      "Введённое число: 1\n",
      "Тест успешно пройден!\n"
     ]
    }
   ],
   "source": [
    "def prime_factor(n):\n",
    "    result = \"\"\n",
    "    for d in range(2, n // 2 + 1):\n",
    "        if n % d == 0:\n",
    "            f = 0 \n",
    "            while n % d == 0:\n",
    "                n = n / d\n",
    "                f += 1\n",
    "            if f == 1:\n",
    "                result += \"(\" + str(d) + \")\"\n",
    "            else:\n",
    "                result += \"(\" + str(d) + \"**\" + str(f) + \")\"\n",
    "    if result == \"\":\n",
    "        result += str(n)\n",
    "        \n",
    "    return result\n",
    "\n",
    "def test(N, answer):\n",
    "    print (\"Введённое число:\", N)\n",
    "    if prime_factor(N) == answer:\n",
    "        print(\"Тест успешно пройден!\")\n",
    "    else:\n",
    "        print(\"Тест не пройден\")\n",
    "\n",
    "test(86240, \"(2**5)(5)(7**2)(11)\")\n",
    "test(8, \"(2**3)\")\n",
    "test(10,\"(2)(5)\")\n",
    "test(1, \"1\")"
   ]
  },
  {
   "cell_type": "markdown",
   "metadata": {
    "id": "ps2s0BudX7A2"
   },
   "source": [
    "# Задача 7\n",
    "Написать функцию, принимающая целое число n, задающее количество кубиков. Функция\n",
    "должна определить, можно ли из данного кол-ва кубиков построить пирамиду, то есть\n",
    "можно ли представить число n как 1^2+2^2+3^2+…+k^2. Если можно, то функция должна\n",
    "вернуть k, иначе строку “It is impossible”. Написать тесты для кода"
   ]
  },
  {
   "cell_type": "code",
   "execution_count": 63,
   "metadata": {
    "id": "3YPjEXxhX_YT"
   },
   "outputs": [
    {
     "name": "stdout",
     "output_type": "stream",
     "text": [
      "Введённое число: 0\n",
      "Тест успешно пройден!\n",
      "Введённое число: 5\n",
      "Тест успешно пройден!\n",
      "Введённое число: 7\n",
      "Тест успешно пройден!\n",
      "Введённое число: 140\n",
      "Тест успешно пройден!\n"
     ]
    }
   ],
   "source": [
    "def pyramid(number):\n",
    "    k = 0\n",
    "    while number >= 1:\n",
    "        k += 1\n",
    "        number -= k**2\n",
    "    if number == 0 and k > 0:\n",
    "        return k\n",
    "    else:\n",
    "        return (\"It is impossible\")\n",
    "        \n",
    "def test(num, answer):\n",
    "    print (\"Введённое число:\", num)\n",
    "    if pyramid(num) == answer:\n",
    "        print(\"Тест успешно пройден!\")\n",
    "    else:\n",
    "        print(\"Тест не пройден\")\n",
    "\n",
    "test(0, \"It is impossible\")\n",
    "test(5, 2)\n",
    "test(7, \"It is impossible\")\n",
    "test(140, 7)"
   ]
  },
  {
   "cell_type": "markdown",
   "metadata": {
    "id": "KeKgmIdAQMEJ"
   },
   "source": [
    "# Задача 8\n",
    "Функция принимает на вход положительное число и определяет является ли оно сбалансированным, т.е. сумма цифр до средних равна сумме цифр после. Средними в случае нечетного числа цифр считать одну цифру, в случае четного - две средних. Написать тесты для кода"
   ]
  },
  {
   "cell_type": "code",
   "execution_count": 74,
   "metadata": {
    "id": "gMAAqtqlQrZt"
   },
   "outputs": [
    {
     "name": "stdout",
     "output_type": "stream",
     "text": [
      "Введённое число: 1234\n",
      "Тест успешно пройден!\n",
      "Введённое число: 1221\n",
      "Тест успешно пройден!\n",
      "Введённое число: 0\n",
      "Тест успешно пройден!\n",
      "Введённое число: 10501303\n",
      "Тест успешно пройден!\n"
     ]
    }
   ],
   "source": [
    "def IsBalanced(n):\n",
    "    n = str(n)\n",
    "    sum = 0\n",
    "    if len(n) % 2 == 0:\n",
    "        mid = int(len(n) / 2) - 1\n",
    "    else:\n",
    "        mid = int(len(n) / 2) + 1\n",
    "        \n",
    "    for i in range(mid):\n",
    "        sum += int(n[i]) - int(n[-i-1])\n",
    "    if sum == 0:\n",
    "        return True\n",
    "    else:\n",
    "        return False\n",
    "        \n",
    "def test(num, answer):\n",
    "    print (\"Введённое число:\", num)\n",
    "    if IsBalanced(num) == answer:\n",
    "        print(\"Тест успешно пройден!\")\n",
    "    else:\n",
    "        print(\"Тест не пройден\")\n",
    "        \n",
    "test(1234, False)\n",
    "test(1221, True)\n",
    "test(0, True)\n",
    "test(10501303, True)"
   ]
  },
  {
   "cell_type": "code",
   "execution_count": null,
   "metadata": {},
   "outputs": [],
   "source": []
  }
 ],
 "metadata": {
  "colab": {
   "provenance": []
  },
  "kernelspec": {
   "display_name": "Python 3 (ipykernel)",
   "language": "python",
   "name": "python3"
  },
  "language_info": {
   "codemirror_mode": {
    "name": "ipython",
    "version": 3
   },
   "file_extension": ".py",
   "mimetype": "text/x-python",
   "name": "python",
   "nbconvert_exporter": "python",
   "pygments_lexer": "ipython3",
   "version": "3.11.1"
  }
 },
 "nbformat": 4,
 "nbformat_minor": 4
}
